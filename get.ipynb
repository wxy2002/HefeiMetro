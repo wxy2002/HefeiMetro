{
 "cells": [
  {
   "cell_type": "code",
   "execution_count": 1,
   "metadata": {},
   "outputs": [],
   "source": [
    "import requests"
   ]
  },
  {
   "cell_type": "code",
   "execution_count": 2,
   "metadata": {},
   "outputs": [],
   "source": [
    "def find_station(data, line):\n",
    "    metro = []\n",
    "    for i in range(len(data['results'])):\n",
    "        name = data['results'][i]['name']\n",
    "        if ('address' not in data['results'][i].keys()) or ('轨道交通' + str(line) + '号线' not in data['results'][i]['address']):\n",
    "            continue\n",
    "        lat = data['results'][i]['location']['lat']; lng = data['results'][i]['location']['lng']\n",
    "        metro.append([name, lat, lng, line])\n",
    "    return metro"
   ]
  },
  {
   "cell_type": "code",
   "execution_count": 3,
   "metadata": {},
   "outputs": [],
   "source": [
    "url = \"https://api.map.baidu.com/place/v2/search?parameters\"\n",
    "metro = []\n",
    "for line in range(1, 8):\n",
    "    parameters = {\n",
    "        'query': '合肥地铁' + str(line) + '号线',\n",
    "        'tag': '地铁',\n",
    "        'region': '合肥',\n",
    "        'output': 'json',\n",
    "        'ak': 'ofrdhFIAnIyCE1Fvhv6U0FWuH7TOGhvU',\n",
    "        'page_size': 20,\n",
    "        'page_num' : 0\n",
    "    }\n",
    "    for page in range(3):\n",
    "        parameters['page_num'] = page\n",
    "        data = requests.get(url, params=parameters).json()\n",
    "        metro.extend(find_station(data, line))"
   ]
  },
  {
   "cell_type": "code",
   "execution_count": 4,
   "metadata": {},
   "outputs": [],
   "source": [
    "import pandas as pd\n",
    "metro = pd.DataFrame(metro, columns=['name', 'lat', 'lng', 'line'])"
   ]
  },
  {
   "cell_type": "code",
   "execution_count": 7,
   "metadata": {},
   "outputs": [],
   "source": [
    "metro.to_csv('metro.csv', index = False, encoding = 'utf-8')"
   ]
  },
  {
   "cell_type": "code",
   "execution_count": 7,
   "metadata": {},
   "outputs": [
    {
     "data": {
      "text/plain": [
       "(187, 4)"
      ]
     },
     "execution_count": 7,
     "metadata": {},
     "output_type": "execute_result"
    }
   ],
   "source": [
    "metro.shape"
   ]
  }
 ],
 "metadata": {
  "kernelspec": {
   "display_name": "base",
   "language": "python",
   "name": "python3"
  },
  "language_info": {
   "codemirror_mode": {
    "name": "ipython",
    "version": 3
   },
   "file_extension": ".py",
   "mimetype": "text/x-python",
   "name": "python",
   "nbconvert_exporter": "python",
   "pygments_lexer": "ipython3",
   "version": "3.8.8"
  },
  "orig_nbformat": 4
 },
 "nbformat": 4,
 "nbformat_minor": 2
}
